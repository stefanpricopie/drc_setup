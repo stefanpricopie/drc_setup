{
 "cells": [
  {
   "cell_type": "code",
   "execution_count": 1,
   "id": "initial_id",
   "metadata": {
    "ExecuteTime": {
     "end_time": "2024-04-11T18:22:40.195750Z",
     "start_time": "2024-04-11T18:22:39.302216Z"
    }
   },
   "outputs": [],
   "source": [
    "from scipy.optimize import brute\n",
    "import torch"
   ]
  },
  {
   "cell_type": "code",
   "execution_count": 2,
   "id": "fbfe547cbe79de8",
   "metadata": {
    "ExecuteTime": {
     "end_time": "2024-04-11T18:22:40.199478Z",
     "start_time": "2024-04-11T18:22:40.196843Z"
    },
    "collapsed": false
   },
   "outputs": [],
   "source": [
    "def brute_force(obj):\n",
    "    # Perform a grid search using scipy's brute function\n",
    "    # Adjust ranges according to objective function's typical evaluation domain\n",
    "    optimal_point = brute(lambda x: obj(torch.tensor(x, dtype=torch.float)).numpy(),\n",
    "                          ranges=[slice(l.item(),u.item()) for l,u in obj.bounds.T], Ns=10000)\n",
    "    return optimal_point"
   ]
  },
  {
   "cell_type": "markdown",
   "id": "f06b1bd3ef374998",
   "metadata": {
    "collapsed": false
   },
   "source": [
    "# Hartmann4"
   ]
  },
  {
   "cell_type": "code",
   "execution_count": 3,
   "id": "df669f2a3e6ce821",
   "metadata": {
    "ExecuteTime": {
     "end_time": "2024-04-11T18:27:40.555669Z",
     "start_time": "2024-04-11T18:27:40.519950Z"
    },
    "collapsed": false
   },
   "outputs": [
    {
     "name": "stdout",
     "output_type": "stream",
     "text": [
      "Optimal point: [0.18734159 0.19415667 0.55794766 0.26463714]\n",
      "Function value at optimal (max) point: 3.134493419655901\n"
     ]
    }
   ],
   "source": [
    "from botorch.test_functions import Hartmann\n",
    "\n",
    "# Example usage\n",
    "hartmann4 = Hartmann(dim=4)\n",
    "\n",
    "# Get optimal point\n",
    "optimal_point = brute_force(hartmann4)\n",
    "\n",
    "print(\"Optimal point:\", optimal_point)\n",
    "print(\"Function value at optimal (max) point:\", -hartmann4(torch.tensor(optimal_point)).item())"
   ]
  },
  {
   "cell_type": "markdown",
   "id": "09a153a2",
   "metadata": {},
   "source": [
    "# Michalewicz"
   ]
  },
  {
   "cell_type": "code",
   "execution_count": 4,
   "id": "2ba9044a",
   "metadata": {
    "ExecuteTime": {
     "end_time": "2024-04-11T18:23:57.400790Z",
     "start_time": "2024-04-11T18:23:57.374477Z"
    }
   },
   "outputs": [
    {
     "name": "stdout",
     "output_type": "stream",
     "text": [
      "Optimal point: [2.20287898 0.89110938 1.28505883]\n",
      "Function value at optimal (max) point: 1.7603947956432622\n",
      "Optimal point: [2.20295712 0.59544782 1.28503402 1.11380078]\n",
      "Function value at optimal (max) point: 2.6570941111009354\n"
     ]
    }
   ],
   "source": [
    "from botorch.test_functions import Michalewicz\n",
    "\n",
    "# Example usage\n",
    "michal3 = Michalewicz(dim=3)\n",
    "\n",
    "# Get optimal point\n",
    "optimal_point = brute_force(michal3)\n",
    "\n",
    "print(\"Optimal point:\", optimal_point)\n",
    "print(\"Function value at optimal (max) point:\", -michal3(torch.tensor(optimal_point)).item())\n",
    "\n",
    "# Example usage\n",
    "michal4 = Michalewicz(dim=4)\n",
    "\n",
    "# Get optimal point\n",
    "optimal_point = brute_force(michal4)\n",
    "\n",
    "print(\"Optimal point:\", optimal_point)\n",
    "print(\"Function value at optimal (max) point:\", -michal4(torch.tensor(optimal_point)).item())"
   ]
  },
  {
   "cell_type": "markdown",
   "id": "86ab6d80",
   "metadata": {},
   "source": [
    "# Schwefel(2D)"
   ]
  },
  {
   "cell_type": "code",
   "execution_count": 5,
   "id": "ca018c6c",
   "metadata": {
    "ExecuteTime": {
     "end_time": "2024-04-11T18:23:06.336454Z",
     "start_time": "2024-04-11T18:22:40.632584Z"
    }
   },
   "outputs": [
    {
     "name": "stdout",
     "output_type": "stream",
     "text": [
      "Optimal point: [420.96048862 420.9692001 ]\n",
      "Function value at optimal point (x,y): tensor(3.4086e-05, dtype=torch.float64)\n",
      "Function value at optimal point (y,x): tensor(3.4086e-05, dtype=torch.float64)\n",
      "Function value at optimal point (-x,-y): tensor(1675.9316, dtype=torch.float64)\n"
     ]
    }
   ],
   "source": [
    "from test_functions import Schwefel\n",
    "\n",
    "# Example usage\n",
    "schwefel = Schwefel()\n",
    "\n",
    "# Get optimal point\n",
    "optimal_point = brute_force(schwefel)\n",
    "\n",
    "print(\"Optimal point:\", optimal_point)\n",
    "print(\"Function value at optimal point (x,y):\", schwefel(torch.tensor(optimal_point)))\n",
    "print(\"Function value at optimal point (y,x):\", schwefel(torch.tensor(optimal_point[::-1].copy()))) # Function is symmetric\n",
    "print(\"Function value at optimal point (-x,-y):\", schwefel(-torch.tensor(optimal_point)))"
   ]
  },
  {
   "cell_type": "markdown",
   "id": "1bb7b68c8d5e11c1",
   "metadata": {
    "collapsed": false
   },
   "source": [
    "# Shubert(2D)"
   ]
  },
  {
   "cell_type": "code",
   "execution_count": 6,
   "id": "32ed0d3902bc2857",
   "metadata": {
    "ExecuteTime": {
     "end_time": "2024-04-11T18:23:06.393912Z",
     "start_time": "2024-04-11T18:23:06.334743Z"
    },
    "collapsed": false
   },
   "outputs": [
    {
     "name": "stdout",
     "output_type": "stream",
     "text": [
      "Optimal point: [-7.08349398  4.8580063 ]\n",
      "Function value at optimal point (x,y): tensor(-186.7309, dtype=torch.float64)\n",
      "Function value at optimal point (y,x): tensor(-186.7309, dtype=torch.float64)\n",
      "Function value at optimal point (-x,-y): tensor(-8.4702, dtype=torch.float64)\n"
     ]
    }
   ],
   "source": [
    "from test_functions import Shubert\n",
    "\n",
    "# Example usage\n",
    "shubert = Shubert()\n",
    "\n",
    "# Get optimal point\n",
    "optimal_point = brute_force(shubert)\n",
    "\n",
    "print(\"Optimal point:\", optimal_point)\n",
    "print(\"Function value at optimal point (x,y):\", shubert(torch.tensor(optimal_point)))\n",
    "print(\"Function value at optimal point (y,x):\", shubert(torch.tensor(optimal_point[::-1].copy()))) # Function is symmetric\n",
    "print(\"Function value at optimal point (-x,-y):\", shubert(-torch.tensor(optimal_point)))"
   ]
  },
  {
   "cell_type": "code",
   "execution_count": null,
   "id": "61c88811d8e0cb37",
   "metadata": {
    "ExecuteTime": {
     "end_time": "2024-04-11T18:23:06.394072Z",
     "start_time": "2024-04-11T18:23:06.391904Z"
    },
    "collapsed": false
   },
   "outputs": [],
   "source": []
  }
 ],
 "metadata": {
  "kernelspec": {
   "display_name": "Python 3 (ipykernel)",
   "language": "python",
   "name": "python3"
  },
  "language_info": {
   "codemirror_mode": {
    "name": "ipython",
    "version": 3
   },
   "file_extension": ".py",
   "mimetype": "text/x-python",
   "name": "python",
   "nbconvert_exporter": "python",
   "pygments_lexer": "ipython3",
   "version": "3.11.8"
  }
 },
 "nbformat": 4,
 "nbformat_minor": 5
}
